{
 "cells": [
  {
   "cell_type": "code",
   "execution_count": 1,
   "metadata": {},
   "outputs": [],
   "source": [
    "import sys\n",
    "sys.path.append('..')\n",
    "import ast\n",
    "import scipy.io\n",
    "import numpy as np\n",
    "from sklearn.naive_bayes import GaussianNB\n",
    "from sklearn.linear_model import LogisticRegression\n",
    "from sklearn.metrics import classification_report\n",
    "from sklearn.neighbors import KNeighborsClassifier\n",
    "import statistics\n",
    "import pandas as pd\n",
    "import pickle\n",
    "import os\n",
    "from constant import path, parameter\n",
    "from lib import hypothesis"
   ]
  },
  {
   "cell_type": "code",
   "execution_count": 2,
   "metadata": {},
   "outputs": [],
   "source": [
    "import warnings\n",
    "warnings.filterwarnings('ignore')"
   ]
  },
  {
   "cell_type": "code",
   "execution_count": 3,
   "metadata": {},
   "outputs": [],
   "source": [
    "from lib import evaluate\n",
    "rules = evaluate.Rules()"
   ]
  },
  {
   "cell_type": "code",
   "execution_count": 4,
   "metadata": {},
   "outputs": [
    {
     "data": {
      "text/html": [
       "<div>\n",
       "<style scoped>\n",
       "    .dataframe tbody tr th:only-of-type {\n",
       "        vertical-align: middle;\n",
       "    }\n",
       "\n",
       "    .dataframe tbody tr th {\n",
       "        vertical-align: top;\n",
       "    }\n",
       "\n",
       "    .dataframe thead th {\n",
       "        text-align: right;\n",
       "    }\n",
       "</style>\n",
       "<table border=\"1\" class=\"dataframe\">\n",
       "  <thead>\n",
       "    <tr style=\"text-align: right;\">\n",
       "      <th></th>\n",
       "      <th>Dataset</th>\n",
       "      <th>arrErrSum</th>\n",
       "      <th>arrErrProd</th>\n",
       "      <th>arrErrMin</th>\n",
       "      <th>arrErrMax</th>\n",
       "    </tr>\n",
       "  </thead>\n",
       "  <tbody>\n",
       "    <tr>\n",
       "      <td>0</td>\n",
       "      <td>cv_australian.mat</td>\n",
       "      <td>[0.14492753623188406, 0.2608695652173913, 0.24...</td>\n",
       "      <td>[0.14492753623188406, 0.2608695652173913, 0.24...</td>\n",
       "      <td>[0.15942028985507245, 0.2753623188405797, 0.28...</td>\n",
       "      <td>[0.15942028985507245, 0.2753623188405797, 0.28...</td>\n",
       "    </tr>\n",
       "    <tr>\n",
       "      <td>1</td>\n",
       "      <td>cv_glass.mat</td>\n",
       "      <td>[0.47619047619047616, 0.36363636363636365, 0.3...</td>\n",
       "      <td>[0.47619047619047616, 0.3181818181818182, 0.45...</td>\n",
       "      <td>[0.47619047619047616, 0.36363636363636365, 0.4...</td>\n",
       "      <td>[0.47619047619047616, 0.4090909090909091, 0.45...</td>\n",
       "    </tr>\n",
       "  </tbody>\n",
       "</table>\n",
       "</div>"
      ],
      "text/plain": [
       "             Dataset                                          arrErrSum  \\\n",
       "0  cv_australian.mat  [0.14492753623188406, 0.2608695652173913, 0.24...   \n",
       "1       cv_glass.mat  [0.47619047619047616, 0.36363636363636365, 0.3...   \n",
       "\n",
       "                                          arrErrProd  \\\n",
       "0  [0.14492753623188406, 0.2608695652173913, 0.24...   \n",
       "1  [0.47619047619047616, 0.3181818181818182, 0.45...   \n",
       "\n",
       "                                           arrErrMin  \\\n",
       "0  [0.15942028985507245, 0.2753623188405797, 0.28...   \n",
       "1  [0.47619047619047616, 0.36363636363636365, 0.4...   \n",
       "\n",
       "                                           arrErrMax  \n",
       "0  [0.15942028985507245, 0.2753623188405797, 0.28...  \n",
       "1  [0.47619047619047616, 0.4090909090909091, 0.45...  "
      ]
     },
     "execution_count": 4,
     "metadata": {},
     "output_type": "execute_result"
    }
   ],
   "source": [
    "dataframe = []\n",
    "for i in range(len(path.CV_FILENAME)):\n",
    "    result_file = os.path.join(path.RESULT_PATH,\"result_{}.pickle\".format(path.CV_FILENAME[i]))\n",
    "    pickle_in = open(result_file,\"rb\")\n",
    "    example_dict = pickle.load(pickle_in)\n",
    "    dataframe.append(example_dict)\n",
    "    \n",
    "data = pd.DataFrame.from_dict(dataframe)\n",
    "data"
   ]
  },
  {
   "cell_type": "code",
   "execution_count": 5,
   "metadata": {
    "scrolled": true
   },
   "outputs": [
    {
     "name": "stdout",
     "output_type": "stream",
     "text": [
      "Bảng 1: Classification error của các fixed combining rule\n"
     ]
    },
    {
     "data": {
      "text/html": [
       "<div>\n",
       "<style scoped>\n",
       "    .dataframe tbody tr th:only-of-type {\n",
       "        vertical-align: middle;\n",
       "    }\n",
       "\n",
       "    .dataframe tbody tr th {\n",
       "        vertical-align: top;\n",
       "    }\n",
       "\n",
       "    .dataframe thead th {\n",
       "        text-align: right;\n",
       "    }\n",
       "</style>\n",
       "<table border=\"1\" class=\"dataframe\">\n",
       "  <thead>\n",
       "    <tr style=\"text-align: right;\">\n",
       "      <th></th>\n",
       "      <th>Dataset</th>\n",
       "      <th>mean_sum</th>\n",
       "      <th>variance_sum</th>\n",
       "      <th>mean_product</th>\n",
       "      <th>variance_product</th>\n",
       "      <th>mean_min</th>\n",
       "      <th>variance_min</th>\n",
       "      <th>mean_max</th>\n",
       "      <th>variance_max</th>\n",
       "    </tr>\n",
       "  </thead>\n",
       "  <tbody>\n",
       "    <tr>\n",
       "      <td>0</td>\n",
       "      <td>cv_australian.mat</td>\n",
       "      <td>0.206280</td>\n",
       "      <td>0.001140</td>\n",
       "      <td>0.210628</td>\n",
       "      <td>0.001068</td>\n",
       "      <td>0.213527</td>\n",
       "      <td>0.001998</td>\n",
       "      <td>0.212077</td>\n",
       "      <td>0.002049</td>\n",
       "    </tr>\n",
       "    <tr>\n",
       "      <td>1</td>\n",
       "      <td>cv_glass.mat</td>\n",
       "      <td>0.377417</td>\n",
       "      <td>0.008615</td>\n",
       "      <td>0.406926</td>\n",
       "      <td>0.005935</td>\n",
       "      <td>0.434848</td>\n",
       "      <td>0.005891</td>\n",
       "      <td>0.443218</td>\n",
       "      <td>0.015694</td>\n",
       "    </tr>\n",
       "  </tbody>\n",
       "</table>\n",
       "</div>"
      ],
      "text/plain": [
       "             Dataset  mean_sum  variance_sum  mean_product  variance_product  \\\n",
       "0  cv_australian.mat  0.206280      0.001140      0.210628          0.001068   \n",
       "1       cv_glass.mat  0.377417      0.008615      0.406926          0.005935   \n",
       "\n",
       "   mean_min  variance_min  mean_max  variance_max  \n",
       "0  0.213527      0.001998  0.212077      0.002049  \n",
       "1  0.434848      0.005891  0.443218      0.015694  "
      ]
     },
     "execution_count": 5,
     "metadata": {},
     "output_type": "execute_result"
    }
   ],
   "source": [
    "dict_data = []\n",
    "for i in range(len(path.CV_FILENAME)):\n",
    "    dict_data.append(hypothesis.mean_rules(path.CV_FILENAME[i],data['arrErrSum'][i],\n",
    "                                      data['arrErrProd'][i],data['arrErrMin'][i],\n",
    "                                      data['arrErrMax'][i]))\n",
    "\n",
    "print('Bảng 1: Classification error của các fixed combining rule')\n",
    "data_1 = pd.DataFrame.from_dict(dict_data)\n",
    "data_1"
   ]
  },
  {
   "cell_type": "code",
   "execution_count": 6,
   "metadata": {},
   "outputs": [
    {
     "name": "stdout",
     "output_type": "stream",
     "text": [
      "Bảng 2: So sanh Win - Equal - Loss\n"
     ]
    },
    {
     "data": {
      "text/html": [
       "<div>\n",
       "<style scoped>\n",
       "    .dataframe tbody tr th:only-of-type {\n",
       "        vertical-align: middle;\n",
       "    }\n",
       "\n",
       "    .dataframe tbody tr th {\n",
       "        vertical-align: top;\n",
       "    }\n",
       "\n",
       "    .dataframe thead th {\n",
       "        text-align: right;\n",
       "    }\n",
       "</style>\n",
       "<table border=\"1\" class=\"dataframe\">\n",
       "  <thead>\n",
       "    <tr style=\"text-align: right;\">\n",
       "      <th></th>\n",
       "      <th>Dataset</th>\n",
       "      <th>win_sum_prod</th>\n",
       "      <th>equal_sum_prod</th>\n",
       "      <th>loss_sum_prod</th>\n",
       "      <th>win_sum_min</th>\n",
       "      <th>equal_sum_min</th>\n",
       "      <th>loss_sum_min</th>\n",
       "      <th>win_sum_max</th>\n",
       "      <th>equal_sum_max</th>\n",
       "      <th>loss_sum_max</th>\n",
       "    </tr>\n",
       "  </thead>\n",
       "  <tbody>\n",
       "    <tr>\n",
       "      <td>0</td>\n",
       "      <td>cv_australian.mat</td>\n",
       "      <td>6</td>\n",
       "      <td>24</td>\n",
       "      <td>0</td>\n",
       "      <td>13</td>\n",
       "      <td>10</td>\n",
       "      <td>7</td>\n",
       "      <td>13</td>\n",
       "      <td>10</td>\n",
       "      <td>7</td>\n",
       "    </tr>\n",
       "    <tr>\n",
       "      <td>1</td>\n",
       "      <td>cv_glass.mat</td>\n",
       "      <td>13</td>\n",
       "      <td>8</td>\n",
       "      <td>9</td>\n",
       "      <td>16</td>\n",
       "      <td>14</td>\n",
       "      <td>0</td>\n",
       "      <td>22</td>\n",
       "      <td>5</td>\n",
       "      <td>3</td>\n",
       "    </tr>\n",
       "  </tbody>\n",
       "</table>\n",
       "</div>"
      ],
      "text/plain": [
       "             Dataset  win_sum_prod  equal_sum_prod  loss_sum_prod  \\\n",
       "0  cv_australian.mat             6              24              0   \n",
       "1       cv_glass.mat            13               8              9   \n",
       "\n",
       "   win_sum_min  equal_sum_min  loss_sum_min  win_sum_max  equal_sum_max  \\\n",
       "0           13             10             7           13             10   \n",
       "1           16             14             0           22              5   \n",
       "\n",
       "   loss_sum_max  \n",
       "0             7  \n",
       "1             3  "
      ]
     },
     "execution_count": 6,
     "metadata": {},
     "output_type": "execute_result"
    }
   ],
   "source": [
    "final_results = []\n",
    "for i in range(len(path.CV_FILENAME)):\n",
    "    # Sum vs Product\n",
    "    win_compare_sum_prod = hypothesis.win_compare_error(data['arrErrSum'][i],data['arrErrProd'][i])\n",
    "    equal_compare_sum_prod = hypothesis.equal_compare_error(data['arrErrSum'][i],data['arrErrProd'][i])\n",
    "    loss_compare_sum_prod = hypothesis.loss_compare_error(data['arrErrSum'][i],data['arrErrProd'][i])\n",
    "    # Sum vs Min\n",
    "    win_compare_sum_min = hypothesis.win_compare_error(data['arrErrSum'][i],data['arrErrMin'][i])\n",
    "    equal_compare_sum_min = hypothesis.equal_compare_error(data['arrErrSum'][i],data['arrErrMin'][i])\n",
    "    loss_compare_sum_min = hypothesis.loss_compare_error(data['arrErrSum'][i],data['arrErrMin'][i])\n",
    "    # Sum vs Max\n",
    "    win_compare_sum_max = hypothesis.win_compare_error(data['arrErrSum'][i],data['arrErrMax'][i])\n",
    "    equal_compare_sum_max = hypothesis.equal_compare_error(data['arrErrSum'][i],data['arrErrMax'][i])\n",
    "    loss_compare_sum_max = hypothesis.loss_compare_error(data['arrErrSum'][i],data['arrErrMax'][i])\n",
    "    dict_result = {'Dataset':path.CV_FILENAME[i],'win_sum_prod':win_compare_sum_prod,'equal_sum_prod':equal_compare_sum_prod,\n",
    "                  'loss_sum_prod':loss_compare_sum_prod,'win_sum_min':win_compare_sum_min,'equal_sum_min':equal_compare_sum_min,\n",
    "                  'loss_sum_min':loss_compare_sum_min,'win_sum_max':win_compare_sum_max,'equal_sum_max':equal_compare_sum_max,\n",
    "                  'loss_sum_max':loss_compare_sum_max}\n",
    "    final_results.append(dict_result)\n",
    "    \n",
    "print('Bảng 2: So sanh Win - Equal - Loss')\n",
    "data_2 = pd.DataFrame.from_dict(final_results)\n",
    "data_2"
   ]
  },
  {
   "cell_type": "code",
   "execution_count": 7,
   "metadata": {
    "scrolled": true
   },
   "outputs": [
    {
     "name": "stdout",
     "output_type": "stream",
     "text": [
      "------------ Kiem dinh Wilcoxon ------------\n",
      "Data:  cv_australian.mat\n",
      "WilcoxonResult(statistic=0.0, pvalue=0.02435791571803699)\n",
      "WilcoxonResult(statistic=52.5, pvalue=0.015711813204806174)\n",
      "------------ Kiem dinh Wilcoxon ------------\n",
      "Data:  cv_glass.mat\n",
      "WilcoxonResult(statistic=0.0, pvalue=0.02435791571803699)\n",
      "WilcoxonResult(statistic=52.5, pvalue=0.015711813204806174)\n"
     ]
    }
   ],
   "source": [
    "for cv in path.CV_FILENAME:\n",
    "    hypothesis.wilcoxon(cv_file=cv, data=data, number_cv = len(path.CV_FILENAME))    "
   ]
  },
  {
   "cell_type": "code",
   "execution_count": null,
   "metadata": {},
   "outputs": [],
   "source": []
  }
 ],
 "metadata": {
  "kernelspec": {
   "display_name": "Python 3",
   "language": "python",
   "name": "python3"
  },
  "language_info": {
   "codemirror_mode": {
    "name": "ipython",
    "version": 3
   },
   "file_extension": ".py",
   "mimetype": "text/x-python",
   "name": "python",
   "nbconvert_exporter": "python",
   "pygments_lexer": "ipython3",
   "version": "3.6.9"
  }
 },
 "nbformat": 4,
 "nbformat_minor": 2
}
