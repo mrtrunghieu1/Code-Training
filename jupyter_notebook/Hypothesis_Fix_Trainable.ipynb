{
 "cells": [
  {
   "cell_type": "code",
   "execution_count": 1,
   "metadata": {},
   "outputs": [],
   "source": [
    "import sys\n",
    "sys.path.append('..')\n",
    "import ast\n",
    "import scipy.io\n",
    "import numpy as np\n",
    "from sklearn.naive_bayes import GaussianNB\n",
    "from sklearn.linear_model import LogisticRegression\n",
    "from sklearn.metrics import classification_report\n",
    "from sklearn.neighbors import KNeighborsClassifier\n",
    "import statistics\n",
    "import pandas as pd\n",
    "import pickle\n",
    "import os\n",
    "from constant import path, parameter\n",
    "from lib import hypothesis"
   ]
  },
  {
   "cell_type": "code",
   "execution_count": 2,
   "metadata": {},
   "outputs": [],
   "source": [
    "data_frame_australian = []\n",
    "data_frame_bupa = []\n",
    "for file in os.listdir(path.RESULT_PATH):\n",
    "    if 'cv_australian.mat' in file:\n",
    "        result_file = os.path.join(path.RESULT_PATH,file)\n",
    "        pickle_in = open(result_file,\"rb\")\n",
    "        example_dict = pickle.load(pickle_in)\n",
    "        data_frame_australian.append(example_dict)\n",
    "    elif 'cv_bupa.mat' in file:\n",
    "        result_file = os.path.join(path.RESULT_PATH,file)\n",
    "        pickle_in = open(result_file,\"rb\")\n",
    "        example_dict = pickle.load(pickle_in)\n",
    "        data_frame_bupa.append(example_dict)"
   ]
  },
  {
   "cell_type": "code",
   "execution_count": 3,
   "metadata": {},
   "outputs": [],
   "source": [
    "def merge_dict(dictionary):\n",
    "    super_dict = {}\n",
    "    for d in list(dictionary):\n",
    "        for k, v in d.items():\n",
    "            super_dict.setdefault(k, []).append(v)\n",
    "    super_dict['Dataset'] = set(super_dict['Dataset'])\n",
    "    super_dict['arrErrSum'] = super_dict['arrErrSum'][0]\n",
    "    super_dict['arrErrSvm'] = super_dict['arrErrSvm'][0]\n",
    "    super_dict['arrErrTree'] = super_dict['arrErrTree'][0]\n",
    "    return super_dict"
   ]
  },
  {
   "cell_type": "code",
   "execution_count": 4,
   "metadata": {
    "scrolled": true
   },
   "outputs": [],
   "source": [
    "super_data = []\n",
    "super_data.append(merge_dict(data_frame_australian))\n",
    "super_data.append(merge_dict(data_frame_bupa))"
   ]
  },
  {
   "cell_type": "code",
   "execution_count": 5,
   "metadata": {
    "scrolled": true
   },
   "outputs": [
    {
     "data": {
      "text/html": [
       "<div>\n",
       "<style scoped>\n",
       "    .dataframe tbody tr th:only-of-type {\n",
       "        vertical-align: middle;\n",
       "    }\n",
       "\n",
       "    .dataframe tbody tr th {\n",
       "        vertical-align: top;\n",
       "    }\n",
       "\n",
       "    .dataframe thead th {\n",
       "        text-align: right;\n",
       "    }\n",
       "</style>\n",
       "<table border=\"1\" class=\"dataframe\">\n",
       "  <thead>\n",
       "    <tr style=\"text-align: right;\">\n",
       "      <th></th>\n",
       "      <th>Dataset</th>\n",
       "      <th>arrErrSum</th>\n",
       "      <th>arrErrSvm</th>\n",
       "      <th>arrErrTree</th>\n",
       "    </tr>\n",
       "  </thead>\n",
       "  <tbody>\n",
       "    <tr>\n",
       "      <th>0</th>\n",
       "      <td>{cv_australian.mat}</td>\n",
       "      <td>[0.14492753623188406, 0.21739130434782608, 0.2...</td>\n",
       "      <td>[0.17391304347826086, 0.18840579710144928, 0.2...</td>\n",
       "      <td>[0.21739130434782608, 0.13043478260869565, 0.2...</td>\n",
       "    </tr>\n",
       "    <tr>\n",
       "      <th>1</th>\n",
       "      <td>{cv_bupa.mat}</td>\n",
       "      <td>[0.35294117647058826, 0.2, 0.3142857142857143,...</td>\n",
       "      <td>[0.3235294117647059, 0.2571428571428571, 0.314...</td>\n",
       "      <td>[0.4411764705882353, 0.42857142857142855, 0.45...</td>\n",
       "    </tr>\n",
       "  </tbody>\n",
       "</table>\n",
       "</div>"
      ],
      "text/plain": [
       "               Dataset                                          arrErrSum  \\\n",
       "0  {cv_australian.mat}  [0.14492753623188406, 0.21739130434782608, 0.2...   \n",
       "1        {cv_bupa.mat}  [0.35294117647058826, 0.2, 0.3142857142857143,...   \n",
       "\n",
       "                                           arrErrSvm  \\\n",
       "0  [0.17391304347826086, 0.18840579710144928, 0.2...   \n",
       "1  [0.3235294117647059, 0.2571428571428571, 0.314...   \n",
       "\n",
       "                                          arrErrTree  \n",
       "0  [0.21739130434782608, 0.13043478260869565, 0.2...  \n",
       "1  [0.4411764705882353, 0.42857142857142855, 0.45...  "
      ]
     },
     "execution_count": 5,
     "metadata": {},
     "output_type": "execute_result"
    }
   ],
   "source": [
    "data = pd.DataFrame.from_dict(super_data)\n",
    "data"
   ]
  },
  {
   "cell_type": "code",
   "execution_count": 6,
   "metadata": {},
   "outputs": [],
   "source": [
    "def mean_rules(cv_file,arrErrSum,arrErrSvm,arrErrTree):\n",
    "    #Caculate mean and variance Total Sum Rule\n",
    "    mean_sum = statistics.mean(arrErrSum)\n",
    "    variance_sum = statistics.variance(arrErrSum)\n",
    "    #Caculate mean and variance Total Product Rule\n",
    "    mean_svm = statistics.mean(arrErrSvm)\n",
    "    variance_svm = statistics.variance(arrErrSvm)\n",
    "    #Caculate mean and variance Total Min Rule\n",
    "    mean_dtree = statistics.mean(arrErrTree)\n",
    "    variance_dtree = statistics.variance(arrErrTree)\n",
    "    dict_data = {'Dataset':cv_file,'mean_sum':mean_sum,'variance_sum':variance_sum,\n",
    "                   'mean_svm':mean_svm,'variance_svm':variance_svm,\n",
    "                  'mean_dtree':mean_dtree,'variance_dtree':variance_dtree}\n",
    "    return dict_data"
   ]
  },
  {
   "cell_type": "code",
   "execution_count": 7,
   "metadata": {
    "scrolled": true
   },
   "outputs": [],
   "source": [
    "classification_error = []\n",
    "for i in range(len(data)):\n",
    "    data_set = mean_rules(data.iloc[i]['Dataset'], data.iloc[i]['arrErrSum'],\n",
    "                      data.iloc[i]['arrErrSvm'], data.iloc[i]['arrErrTree'])\n",
    "    classification_error.append(data_set)"
   ]
  },
  {
   "cell_type": "code",
   "execution_count": 8,
   "metadata": {},
   "outputs": [
    {
     "name": "stdout",
     "output_type": "stream",
     "text": [
      "Bảng 1: Classification error của các fixed combining rule\n"
     ]
    },
    {
     "data": {
      "text/html": [
       "<div>\n",
       "<style scoped>\n",
       "    .dataframe tbody tr th:only-of-type {\n",
       "        vertical-align: middle;\n",
       "    }\n",
       "\n",
       "    .dataframe tbody tr th {\n",
       "        vertical-align: top;\n",
       "    }\n",
       "\n",
       "    .dataframe thead th {\n",
       "        text-align: right;\n",
       "    }\n",
       "</style>\n",
       "<table border=\"1\" class=\"dataframe\">\n",
       "  <thead>\n",
       "    <tr style=\"text-align: right;\">\n",
       "      <th></th>\n",
       "      <th>Dataset</th>\n",
       "      <th>mean_dtree</th>\n",
       "      <th>mean_sum</th>\n",
       "      <th>mean_svm</th>\n",
       "      <th>variance_dtree</th>\n",
       "      <th>variance_sum</th>\n",
       "      <th>variance_svm</th>\n",
       "    </tr>\n",
       "  </thead>\n",
       "  <tbody>\n",
       "    <tr>\n",
       "      <th>0</th>\n",
       "      <td>{cv_australian.mat}</td>\n",
       "      <td>0.176812</td>\n",
       "      <td>0.191304</td>\n",
       "      <td>0.165700</td>\n",
       "      <td>0.001049</td>\n",
       "      <td>0.000875</td>\n",
       "      <td>0.001458</td>\n",
       "    </tr>\n",
       "    <tr>\n",
       "      <th>1</th>\n",
       "      <td>{cv_bupa.mat}</td>\n",
       "      <td>0.465182</td>\n",
       "      <td>0.300364</td>\n",
       "      <td>0.284118</td>\n",
       "      <td>0.005264</td>\n",
       "      <td>0.003136</td>\n",
       "      <td>0.002930</td>\n",
       "    </tr>\n",
       "  </tbody>\n",
       "</table>\n",
       "</div>"
      ],
      "text/plain": [
       "               Dataset  mean_dtree  mean_sum  mean_svm  variance_dtree  \\\n",
       "0  {cv_australian.mat}    0.176812  0.191304  0.165700        0.001049   \n",
       "1        {cv_bupa.mat}    0.465182  0.300364  0.284118        0.005264   \n",
       "\n",
       "   variance_sum  variance_svm  \n",
       "0      0.000875      0.001458  \n",
       "1      0.003136      0.002930  "
      ]
     },
     "execution_count": 8,
     "metadata": {},
     "output_type": "execute_result"
    }
   ],
   "source": [
    "print('Bảng 1: Classification error của các fixed combining rule')\n",
    "classification_error = pd.DataFrame.from_dict(classification_error)\n",
    "classification_error"
   ]
  },
  {
   "cell_type": "code",
   "execution_count": 9,
   "metadata": {},
   "outputs": [
    {
     "name": "stdout",
     "output_type": "stream",
     "text": [
      "Bảng 2: So sanh Win - Equal - Loss\n",
      "[{'Dataset': 'cv_australian.mat', 'win_compare_sum_svm': 4, 'equal_compare_sum_svm': 7, 'loss_compare_sum_svm': 19, 'win_compare_sum_dtree': 7, 'equal_compare_sum_dtree': 1, 'loss_compare_sum_dtree': 22, 'win_compare_svm_dtree': 15, 'equal_compare_svm_dtree': 5, 'loss_compare_svm_dtree': 10}, {'Dataset': 'cv_bupa.mat', 'win_compare_sum_svm': 10, 'equal_compare_sum_svm': 7, 'loss_compare_sum_svm': 13, 'win_compare_sum_dtree': 27, 'equal_compare_sum_dtree': 2, 'loss_compare_sum_dtree': 1, 'win_compare_svm_dtree': 30, 'equal_compare_svm_dtree': 0, 'loss_compare_svm_dtree': 0}]\n"
     ]
    },
    {
     "data": {
      "text/html": [
       "<div>\n",
       "<style scoped>\n",
       "    .dataframe tbody tr th:only-of-type {\n",
       "        vertical-align: middle;\n",
       "    }\n",
       "\n",
       "    .dataframe tbody tr th {\n",
       "        vertical-align: top;\n",
       "    }\n",
       "\n",
       "    .dataframe thead th {\n",
       "        text-align: right;\n",
       "    }\n",
       "</style>\n",
       "<table border=\"1\" class=\"dataframe\">\n",
       "  <thead>\n",
       "    <tr style=\"text-align: right;\">\n",
       "      <th></th>\n",
       "      <th>Dataset</th>\n",
       "      <th>equal_compare_sum_dtree</th>\n",
       "      <th>equal_compare_sum_svm</th>\n",
       "      <th>equal_compare_svm_dtree</th>\n",
       "      <th>loss_compare_sum_dtree</th>\n",
       "      <th>loss_compare_sum_svm</th>\n",
       "      <th>loss_compare_svm_dtree</th>\n",
       "      <th>win_compare_sum_dtree</th>\n",
       "      <th>win_compare_sum_svm</th>\n",
       "      <th>win_compare_svm_dtree</th>\n",
       "    </tr>\n",
       "  </thead>\n",
       "  <tbody>\n",
       "    <tr>\n",
       "      <th>0</th>\n",
       "      <td>cv_australian.mat</td>\n",
       "      <td>1</td>\n",
       "      <td>7</td>\n",
       "      <td>5</td>\n",
       "      <td>22</td>\n",
       "      <td>19</td>\n",
       "      <td>10</td>\n",
       "      <td>7</td>\n",
       "      <td>4</td>\n",
       "      <td>15</td>\n",
       "    </tr>\n",
       "    <tr>\n",
       "      <th>1</th>\n",
       "      <td>cv_bupa.mat</td>\n",
       "      <td>2</td>\n",
       "      <td>7</td>\n",
       "      <td>0</td>\n",
       "      <td>1</td>\n",
       "      <td>13</td>\n",
       "      <td>0</td>\n",
       "      <td>27</td>\n",
       "      <td>10</td>\n",
       "      <td>30</td>\n",
       "    </tr>\n",
       "  </tbody>\n",
       "</table>\n",
       "</div>"
      ],
      "text/plain": [
       "             Dataset  equal_compare_sum_dtree  equal_compare_sum_svm  \\\n",
       "0  cv_australian.mat                        1                      7   \n",
       "1        cv_bupa.mat                        2                      7   \n",
       "\n",
       "   equal_compare_svm_dtree  loss_compare_sum_dtree  loss_compare_sum_svm  \\\n",
       "0                        5                      22                    19   \n",
       "1                        0                       1                    13   \n",
       "\n",
       "   loss_compare_svm_dtree  win_compare_sum_dtree  win_compare_sum_svm  \\\n",
       "0                      10                      7                    4   \n",
       "1                       0                     27                   10   \n",
       "\n",
       "   win_compare_svm_dtree  \n",
       "0                     15  \n",
       "1                     30  "
      ]
     },
     "execution_count": 9,
     "metadata": {},
     "output_type": "execute_result"
    }
   ],
   "source": [
    "final_results = []\n",
    "for i in range(len(path.CV_FILENAME)):\n",
    "    # Sum vs Svm\n",
    "    win_compare_sum_svm = hypothesis.win_compare_error(data['arrErrSum'][i],data['arrErrSvm'][i])\n",
    "    equal_compare_sum_svm = hypothesis.equal_compare_error(data['arrErrSum'][i],data['arrErrSvm'][i])\n",
    "    loss_compare_sum_svm = hypothesis.loss_compare_error(data['arrErrSum'][i],data['arrErrSvm'][i])\n",
    "    # Sum vs DecisionTree\n",
    "    win_compare_sum_dtree = hypothesis.win_compare_error(data['arrErrSum'][i],data['arrErrTree'][i])\n",
    "    equal_compare_sum_dtree = hypothesis.equal_compare_error(data['arrErrSum'][i],data['arrErrTree'][i])\n",
    "    loss_compare_sum_dtree = hypothesis.loss_compare_error(data['arrErrSum'][i],data['arrErrTree'][i])\n",
    "    # Svm vs DecisionTree\n",
    "    win_compare_svm_dtree = hypothesis.win_compare_error(data['arrErrSvm'][i],data['arrErrTree'][i])\n",
    "    equal_compare_svm_dtree = hypothesis.equal_compare_error(data['arrErrSvm'][i],data['arrErrTree'][i])\n",
    "    loss_compare_svm_dtree = hypothesis.loss_compare_error(data['arrErrSvm'][i],data['arrErrTree'][i])\n",
    "    dict_result = {'Dataset':path.CV_FILENAME[i],'win_compare_sum_svm':win_compare_sum_svm,'equal_compare_sum_svm':equal_compare_sum_svm,\n",
    "                  'loss_compare_sum_svm':loss_compare_sum_svm,'win_compare_sum_dtree':win_compare_sum_dtree,'equal_compare_sum_dtree':equal_compare_sum_dtree,\n",
    "                  'loss_compare_sum_dtree':loss_compare_sum_dtree,'win_compare_svm_dtree':win_compare_svm_dtree,'equal_compare_svm_dtree':equal_compare_svm_dtree,\n",
    "                  'loss_compare_svm_dtree':loss_compare_svm_dtree}\n",
    "    final_results.append(dict_result)\n",
    "print('Bảng 2: So sanh Win - Equal - Loss')\n",
    "print(final_results)\n",
    "data_2 = pd.DataFrame.from_dict(final_results)\n",
    "data_2"
   ]
  },
  {
   "cell_type": "code",
   "execution_count": 10,
   "metadata": {
    "scrolled": true
   },
   "outputs": [
    {
     "name": "stdout",
     "output_type": "stream",
     "text": [
      "------------ Kiem dinh Wilcoxon ------------\n",
      "Data:  cv_australian.mat\n",
      "----SUM AND SVM----\n",
      "WilcoxonResult(statistic=22.0, pvalue=0.00039915188699117695)\n",
      "----SUM AND DECISION TREE----\n",
      "WilcoxonResult(statistic=134.0, pvalue=0.07026502617607172)\n",
      "----SVM AND DECISION TREE----\n",
      "WilcoxonResult(statistic=102.0, pvalue=0.10269326343100563)\n",
      "----SUM AND SVM----\n",
      "WilcoxonResult(statistic=105.5, pvalue=0.3219616101436398)\n",
      "----SUM AND DECISION TREE----\n",
      "WilcoxonResult(statistic=1.0, pvalue=4.180222239131184e-06)\n",
      "----SVM AND DECISION TREE----\n",
      "WilcoxonResult(statistic=0.0, pvalue=1.712686559944352e-06)\n",
      "------------ Kiem dinh Wilcoxon ------------\n",
      "Data:  cv_bupa.mat\n",
      "----SUM AND SVM----\n",
      "WilcoxonResult(statistic=22.0, pvalue=0.00039915188699117695)\n",
      "----SUM AND DECISION TREE----\n",
      "WilcoxonResult(statistic=134.0, pvalue=0.07026502617607172)\n",
      "----SVM AND DECISION TREE----\n",
      "WilcoxonResult(statistic=102.0, pvalue=0.10269326343100563)\n",
      "----SUM AND SVM----\n",
      "WilcoxonResult(statistic=105.5, pvalue=0.3219616101436398)\n",
      "----SUM AND DECISION TREE----\n",
      "WilcoxonResult(statistic=1.0, pvalue=4.180222239131184e-06)\n",
      "----SVM AND DECISION TREE----\n",
      "WilcoxonResult(statistic=0.0, pvalue=1.712686559944352e-06)\n"
     ]
    }
   ],
   "source": [
    "for cv in path.CV_FILENAME:\n",
    "    hypothesis.wilcoxon_test(cv_file=cv, data=data, number_cv = len(path.CV_FILENAME))    "
   ]
  },
  {
   "cell_type": "code",
   "execution_count": null,
   "metadata": {},
   "outputs": [],
   "source": []
  }
 ],
 "metadata": {
  "kernelspec": {
   "display_name": "Python 3",
   "language": "python",
   "name": "python3"
  },
  "language_info": {
   "codemirror_mode": {
    "name": "ipython",
    "version": 3
   },
   "file_extension": ".py",
   "mimetype": "text/x-python",
   "name": "python",
   "nbconvert_exporter": "python",
   "pygments_lexer": "ipython3",
   "version": "3.6.9"
  }
 },
 "nbformat": 4,
 "nbformat_minor": 2
}
