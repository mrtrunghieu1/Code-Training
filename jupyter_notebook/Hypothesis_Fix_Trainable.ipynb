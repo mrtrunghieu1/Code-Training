{
 "cells": [
  {
   "cell_type": "code",
   "execution_count": 1,
   "metadata": {},
   "outputs": [],
   "source": [
    "import sys\n",
    "sys.path.append('..')\n",
    "import ast\n",
    "import scipy.io\n",
    "import numpy as np\n",
    "from sklearn.naive_bayes import GaussianNB\n",
    "from sklearn.linear_model import LogisticRegression\n",
    "from sklearn.metrics import classification_report\n",
    "from sklearn.neighbors import KNeighborsClassifier\n",
    "import statistics\n",
    "import pandas as pd\n",
    "import pickle\n",
    "import os\n",
    "from constant import path, parameter\n",
    "from lib import hypothesis"
   ]
  },
  {
   "cell_type": "code",
   "execution_count": 2,
   "metadata": {},
   "outputs": [],
   "source": [
    "data_frame_australian = []\n",
    "data_frame_bupa = []\n",
    "for file in os.listdir(path.RESULT_PATH):\n",
    "    if 'cv_australian.mat' in file:\n",
    "        result_file = os.path.join(path.RESULT_PATH,file)\n",
    "        pickle_in = open(result_file,\"rb\")\n",
    "        example_dict = pickle.load(pickle_in)\n",
    "        data_frame_australian.append(example_dict)\n",
    "    elif 'cv_bupa.mat' in file:\n",
    "        result_file = os.path.join(path.RESULT_PATH,file)\n",
    "        pickle_in = open(result_file,\"rb\")\n",
    "        example_dict = pickle.load(pickle_in)\n",
    "        data_frame_bupa.append(example_dict)"
   ]
  },
  {
   "cell_type": "code",
   "execution_count": 3,
   "metadata": {
    "scrolled": true
   },
   "outputs": [],
   "source": [
    "error_australian = {**data_frame_australian[0], **data_frame_australian[1], **data_frame_australian[2]}\n",
    "del error_australian['Dataset']\n",
    "# df_australian = pd.DataFrame.from_dict(error_australian)"
   ]
  },
  {
   "cell_type": "code",
   "execution_count": 4,
   "metadata": {
    "scrolled": true
   },
   "outputs": [],
   "source": [
    "error_bupa = {**data_frame_bupa[0], **data_frame_bupa[1], **data_frame_bupa[2]}\n",
    "del error_bupa['Dataset']\n",
    "# df_bupa = pd.DataFrame.from_dict(error_bupa)"
   ]
  },
  {
   "cell_type": "code",
   "execution_count": 5,
   "metadata": {},
   "outputs": [],
   "source": [
    "def mean_var_rule(cv_file,a):\n",
    "    dict_data = {'Dataset': cv_file}\n",
    "    for key, value in a.items():\n",
    "        mean = statistics.mean(value)\n",
    "        variance = statistics.variance(value)\n",
    "        dict_data.update({'mean_{}'.format(key): mean, \n",
    "                          'variance_{}'.format(key): variance})\n",
    "    return dict_data"
   ]
  },
  {
   "cell_type": "code",
   "execution_count": 6,
   "metadata": {
    "scrolled": true
   },
   "outputs": [
    {
     "data": {
      "text/plain": [
       "{'Dataset': 'australian',\n",
       " 'mean_arrErrTree': 0.22560386473429953,\n",
       " 'variance_arrErrTree': 0.0018495583126311246,\n",
       " 'mean_arrErrSum': 0.20628019323671498,\n",
       " 'variance_arrErrSum': 0.0011397682801111524,\n",
       " 'mean_arrErrSvm': 0.18067632850241547,\n",
       " 'variance_arrErrSvm': 0.0017633695229679848}"
      ]
     },
     "execution_count": 6,
     "metadata": {},
     "output_type": "execute_result"
    }
   ],
   "source": [
    "mean_var_rule('australian',error_australian)"
   ]
  },
  {
   "cell_type": "code",
   "execution_count": 7,
   "metadata": {},
   "outputs": [
    {
     "data": {
      "text/plain": [
       "{'Dataset': 'bupa',\n",
       " 'mean_arrErrTree': 0.454593837535014,\n",
       " 'variance_arrErrTree': 0.004289025143525969,\n",
       " 'mean_arrErrSum': 0.30142857142857143,\n",
       " 'variance_arrErrSum': 0.002291682595959277,\n",
       " 'mean_arrErrSvm': 0.31072829131652663,\n",
       " 'variance_arrErrSvm': 0.002826445791298265}"
      ]
     },
     "execution_count": 7,
     "metadata": {},
     "output_type": "execute_result"
    }
   ],
   "source": [
    "mean_var_rule('bupa',error_bupa)"
   ]
  },
  {
   "cell_type": "code",
   "execution_count": 8,
   "metadata": {},
   "outputs": [],
   "source": [
    "def count_result(error1, error2):\n",
    "    win = hypothesis.win_compare_error(error1,error2)\n",
    "    equal = hypothesis.equal_compare_error(error1, error2)\n",
    "    loss = hypothesis.loss_compare_error(error1, error2)\n",
    "    return win, equal, loss"
   ]
  },
  {
   "cell_type": "code",
   "execution_count": 9,
   "metadata": {},
   "outputs": [
    {
     "name": "stdout",
     "output_type": "stream",
     "text": [
      "#---------------------------AUSTRALIAN-----------------------------\n",
      "*****Sum vs Svm*****\n",
      "Win --------- Equal --------- Loss\n",
      "(9, 3, 18)\n",
      "*****Sum vs DecisionTree*****\n",
      "Win --------- Equal --------- Loss\n",
      "(14, 5, 11)\n",
      "*****Svm vs DecisionTree*****\n",
      "Win --------- Equal --------- Loss\n",
      "(22, 3, 5)\n"
     ]
    }
   ],
   "source": [
    "#---------------------------AUSTRALIAN-----------------------------\n",
    "#---------------------------SUM vs SVM-----------------------------\n",
    "print('#---------------------------AUSTRALIAN-----------------------------')\n",
    "print('*****Sum vs Svm*****')\n",
    "print('Win --------- Equal --------- Loss')\n",
    "print(count_result(error_australian['arrErrSum'], error_australian['arrErrSvm']))\n",
    "print('*****Sum vs DecisionTree*****')\n",
    "print('Win --------- Equal --------- Loss')\n",
    "print(count_result(error_australian['arrErrSum'], error_australian['arrErrTree']))\n",
    "print('*****Svm vs DecisionTree*****')\n",
    "print('Win --------- Equal --------- Loss')\n",
    "print(count_result(error_australian['arrErrSvm'], error_australian['arrErrTree']))"
   ]
  },
  {
   "cell_type": "code",
   "execution_count": 17,
   "metadata": {},
   "outputs": [
    {
     "name": "stdout",
     "output_type": "stream",
     "text": [
      "#---------------------------AUSTRALIAN-----------------------------\n",
      "*****Sum vs Svm*****\n",
      "WilcoxonResult(statistic=49.5, pvalue=0.0007297268467989145)\n",
      "*****Sum vs DecisionTree*****\n",
      "WilcoxonResult(statistic=100.0, pvalue=0.09212850098392708)\n",
      "*****Svm vs DecisionTree*****\n",
      "WilcoxonResult(statistic=46.0, pvalue=0.0005800139323937844)\n"
     ]
    }
   ],
   "source": [
    "print('#---------------------------AUSTRALIAN-----------------------------')\n",
    "print('*****Sum vs Svm*****')\n",
    "print(scipy.stats.wilcoxon(error_australian['arrErrSum'],error_australian['arrErrSvm']))\n",
    "print('*****Sum vs DecisionTree*****')\n",
    "print(scipy.stats.wilcoxon(error_australian['arrErrSum'],error_australian['arrErrTree']))\n",
    "print('*****Svm vs DecisionTree*****')\n",
    "print(scipy.stats.wilcoxon(error_australian['arrErrSvm'],error_australian['arrErrTree']))"
   ]
  },
  {
   "cell_type": "code",
   "execution_count": 11,
   "metadata": {
    "scrolled": true
   },
   "outputs": [
    {
     "name": "stdout",
     "output_type": "stream",
     "text": [
      "#---------------------------BUPA-----------------------------\n",
      "*****Sum vs Svm*****\n",
      "Win --------- Equal --------- Loss\n",
      "(12, 10, 8)\n",
      "*****Sum vs DecisionTree*****\n",
      "Win --------- Equal --------- Loss\n",
      "(27, 2, 1)\n",
      "*****Svm vs DecisionTree*****\n",
      "Win --------- Equal --------- Loss\n",
      "(30, 0, 0)\n"
     ]
    }
   ],
   "source": [
    "#---------------------------BUPA-----------------------------\n",
    "#---------------------------SUM vs SVM-----------------------------\n",
    "print('#---------------------------BUPA-----------------------------')\n",
    "print('*****Sum vs Svm*****')\n",
    "print('Win --------- Equal --------- Loss')\n",
    "print(count_result(error_bupa['arrErrSum'], error_bupa['arrErrSvm']))\n",
    "print('*****Sum vs DecisionTree*****')\n",
    "print('Win --------- Equal --------- Loss')\n",
    "print(count_result(error_bupa['arrErrSum'], error_bupa['arrErrTree']))\n",
    "print('*****Svm vs DecisionTree*****')\n",
    "print('Win --------- Equal --------- Loss')\n",
    "print(count_result(error_bupa['arrErrSvm'], error_bupa['arrErrTree']))"
   ]
  },
  {
   "cell_type": "code",
   "execution_count": 19,
   "metadata": {},
   "outputs": [
    {
     "name": "stdout",
     "output_type": "stream",
     "text": [
      "#---------------------------BUPA-----------------------------\n",
      "*****Sum vs Svm*****\n",
      "WilcoxonResult(statistic=78.0, pvalue=0.31130377190335545)\n",
      "*****Sum vs DecisionTree*****\n",
      "WilcoxonResult(statistic=2.5, pvalue=4.867646328576472e-06)\n",
      "*****Svm vs DecisionTree*****\n",
      "WilcoxonResult(statistic=0.0, pvalue=1.6954815515692352e-06)\n"
     ]
    }
   ],
   "source": [
    "print('#---------------------------BUPA-----------------------------')\n",
    "print('*****Sum vs Svm*****')\n",
    "print(scipy.stats.wilcoxon(error_bupa['arrErrSum'],error_bupa['arrErrSvm']))\n",
    "print('*****Sum vs DecisionTree*****')\n",
    "print(scipy.stats.wilcoxon(error_bupa['arrErrSum'],error_bupa['arrErrTree']))\n",
    "print('*****Svm vs DecisionTree*****')\n",
    "print(scipy.stats.wilcoxon(error_bupa['arrErrSvm'],error_bupa['arrErrTree']))"
   ]
  }
 ],
 "metadata": {
  "kernelspec": {
   "display_name": "Python 3",
   "language": "python",
   "name": "python3"
  },
  "language_info": {
   "codemirror_mode": {
    "name": "ipython",
    "version": 3
   },
   "file_extension": ".py",
   "mimetype": "text/x-python",
   "name": "python",
   "nbconvert_exporter": "python",
   "pygments_lexer": "ipython3",
   "version": "3.6.9"
  }
 },
 "nbformat": 4,
 "nbformat_minor": 2
}
