{
 "cells": [
  {
   "cell_type": "code",
   "execution_count": 1,
   "metadata": {},
   "outputs": [],
   "source": [
    "import sys\n",
    "sys.path.append('..')\n",
    "import ast\n",
    "import scipy.io\n",
    "import numpy as np\n",
    "from sklearn.naive_bayes import GaussianNB\n",
    "from sklearn.linear_model import LogisticRegression\n",
    "from sklearn.metrics import classification_report\n",
    "from sklearn.neighbors import KNeighborsClassifier\n",
    "import statistics\n",
    "import pandas as pd\n",
    "import pickle\n",
    "import os\n",
    "from constant import path, parameter\n",
    "from lib import hypothesis"
   ]
  },
  {
   "cell_type": "code",
   "execution_count": 2,
   "metadata": {},
   "outputs": [],
   "source": [
    "from lib import evaluate\n",
    "rules = evaluate.Rules()"
   ]
  },
  {
   "cell_type": "code",
   "execution_count": 3,
   "metadata": {},
   "outputs": [
    {
     "data": {
      "text/html": [
       "<div>\n",
       "<style scoped>\n",
       "    .dataframe tbody tr th:only-of-type {\n",
       "        vertical-align: middle;\n",
       "    }\n",
       "\n",
       "    .dataframe tbody tr th {\n",
       "        vertical-align: top;\n",
       "    }\n",
       "\n",
       "    .dataframe thead th {\n",
       "        text-align: right;\n",
       "    }\n",
       "</style>\n",
       "<table border=\"1\" class=\"dataframe\">\n",
       "  <thead>\n",
       "    <tr style=\"text-align: right;\">\n",
       "      <th></th>\n",
       "      <th>Dataset</th>\n",
       "      <th>arrErrSum</th>\n",
       "      <th>arrErrProd</th>\n",
       "      <th>arrErrMin</th>\n",
       "      <th>arrErrMax</th>\n",
       "    </tr>\n",
       "  </thead>\n",
       "  <tbody>\n",
       "    <tr>\n",
       "      <td>0</td>\n",
       "      <td>cv_australian.mat</td>\n",
       "      <td>[0.14492753623188406, 0.2608695652173913, 0.24...</td>\n",
       "      <td>[0.14492753623188406, 0.2608695652173913, 0.24...</td>\n",
       "      <td>[0.15942028985507245, 0.2753623188405797, 0.28...</td>\n",
       "      <td>[0.15942028985507245, 0.2753623188405797, 0.28...</td>\n",
       "    </tr>\n",
       "    <tr>\n",
       "      <td>1</td>\n",
       "      <td>cv_bupa.mat</td>\n",
       "      <td>[0.38235294117647056, 0.22857142857142856, 0.2...</td>\n",
       "      <td>[0.38235294117647056, 0.22857142857142856, 0.2...</td>\n",
       "      <td>[0.35294117647058826, 0.2571428571428571, 0.31...</td>\n",
       "      <td>[0.35294117647058826, 0.2571428571428571, 0.31...</td>\n",
       "    </tr>\n",
       "    <tr>\n",
       "      <td>2</td>\n",
       "      <td>cv_glass.mat</td>\n",
       "      <td>[0.47619047619047616, 0.36363636363636365, 0.3...</td>\n",
       "      <td>[0.47619047619047616, 0.3181818181818182, 0.45...</td>\n",
       "      <td>[0.47619047619047616, 0.36363636363636365, 0.4...</td>\n",
       "      <td>[0.47619047619047616, 0.4090909090909091, 0.45...</td>\n",
       "    </tr>\n",
       "  </tbody>\n",
       "</table>\n",
       "</div>"
      ],
      "text/plain": [
       "             Dataset                                          arrErrSum  \\\n",
       "0  cv_australian.mat  [0.14492753623188406, 0.2608695652173913, 0.24...   \n",
       "1        cv_bupa.mat  [0.38235294117647056, 0.22857142857142856, 0.2...   \n",
       "2       cv_glass.mat  [0.47619047619047616, 0.36363636363636365, 0.3...   \n",
       "\n",
       "                                          arrErrProd  \\\n",
       "0  [0.14492753623188406, 0.2608695652173913, 0.24...   \n",
       "1  [0.38235294117647056, 0.22857142857142856, 0.2...   \n",
       "2  [0.47619047619047616, 0.3181818181818182, 0.45...   \n",
       "\n",
       "                                           arrErrMin  \\\n",
       "0  [0.15942028985507245, 0.2753623188405797, 0.28...   \n",
       "1  [0.35294117647058826, 0.2571428571428571, 0.31...   \n",
       "2  [0.47619047619047616, 0.36363636363636365, 0.4...   \n",
       "\n",
       "                                           arrErrMax  \n",
       "0  [0.15942028985507245, 0.2753623188405797, 0.28...  \n",
       "1  [0.35294117647058826, 0.2571428571428571, 0.31...  \n",
       "2  [0.47619047619047616, 0.4090909090909091, 0.45...  "
      ]
     },
     "execution_count": 3,
     "metadata": {},
     "output_type": "execute_result"
    }
   ],
   "source": [
    "dataframe = []\n",
    "for i in range(len(path.CV_FILENAME)):\n",
    "    result_file = os.path.join(path.RESULT_PATH,\"result_{}.pickle\".format(path.CV_FILENAME[i]))\n",
    "    pickle_in = open(result_file,\"rb\")\n",
    "    example_dict = pickle.load(pickle_in)\n",
    "    dataframe.append(example_dict)\n",
    "    \n",
    "data = pd.DataFrame.from_dict(dataframe)\n",
    "data"
   ]
  },
  {
   "cell_type": "code",
   "execution_count": 5,
   "metadata": {
    "scrolled": true
   },
   "outputs": [
    {
     "name": "stdout",
     "output_type": "stream",
     "text": [
      "Bảng 1: Classification error của các fixed combining rule\n"
     ]
    },
    {
     "data": {
      "text/html": [
       "<div>\n",
       "<style scoped>\n",
       "    .dataframe tbody tr th:only-of-type {\n",
       "        vertical-align: middle;\n",
       "    }\n",
       "\n",
       "    .dataframe tbody tr th {\n",
       "        vertical-align: top;\n",
       "    }\n",
       "\n",
       "    .dataframe thead th {\n",
       "        text-align: right;\n",
       "    }\n",
       "</style>\n",
       "<table border=\"1\" class=\"dataframe\">\n",
       "  <thead>\n",
       "    <tr style=\"text-align: right;\">\n",
       "      <th></th>\n",
       "      <th>Dataset</th>\n",
       "      <th>mean_sum</th>\n",
       "      <th>variance_sum</th>\n",
       "      <th>mean_product</th>\n",
       "      <th>variance_product</th>\n",
       "      <th>mean_min</th>\n",
       "      <th>variance_min</th>\n",
       "      <th>mean_max</th>\n",
       "      <th>variance_max</th>\n",
       "    </tr>\n",
       "  </thead>\n",
       "  <tbody>\n",
       "    <tr>\n",
       "      <td>0</td>\n",
       "      <td>cv_australian.mat</td>\n",
       "      <td>0.206280</td>\n",
       "      <td>0.001140</td>\n",
       "      <td>0.210628</td>\n",
       "      <td>0.001068</td>\n",
       "      <td>0.213527</td>\n",
       "      <td>0.001998</td>\n",
       "      <td>0.212077</td>\n",
       "      <td>0.002049</td>\n",
       "    </tr>\n",
       "    <tr>\n",
       "      <td>1</td>\n",
       "      <td>cv_bupa.mat</td>\n",
       "      <td>0.301429</td>\n",
       "      <td>0.002292</td>\n",
       "      <td>0.301429</td>\n",
       "      <td>0.002292</td>\n",
       "      <td>0.311961</td>\n",
       "      <td>0.001566</td>\n",
       "      <td>0.311961</td>\n",
       "      <td>0.001566</td>\n",
       "    </tr>\n",
       "    <tr>\n",
       "      <td>2</td>\n",
       "      <td>cv_glass.mat</td>\n",
       "      <td>0.377417</td>\n",
       "      <td>0.008615</td>\n",
       "      <td>0.406926</td>\n",
       "      <td>0.005935</td>\n",
       "      <td>0.434848</td>\n",
       "      <td>0.005891</td>\n",
       "      <td>0.443218</td>\n",
       "      <td>0.015694</td>\n",
       "    </tr>\n",
       "  </tbody>\n",
       "</table>\n",
       "</div>"
      ],
      "text/plain": [
       "             Dataset  mean_sum  variance_sum  mean_product  variance_product  \\\n",
       "0  cv_australian.mat  0.206280      0.001140      0.210628          0.001068   \n",
       "1        cv_bupa.mat  0.301429      0.002292      0.301429          0.002292   \n",
       "2       cv_glass.mat  0.377417      0.008615      0.406926          0.005935   \n",
       "\n",
       "   mean_min  variance_min  mean_max  variance_max  \n",
       "0  0.213527      0.001998  0.212077      0.002049  \n",
       "1  0.311961      0.001566  0.311961      0.001566  \n",
       "2  0.434848      0.005891  0.443218      0.015694  "
      ]
     },
     "execution_count": 5,
     "metadata": {},
     "output_type": "execute_result"
    }
   ],
   "source": [
    "dict_data = []\n",
    "for i in range(len(path.CV_FILENAME)):\n",
    "    dict_data.append(hypothesis.mean_rules(path.CV_FILENAME[i],data['arrErrSum'][i],\n",
    "                                      data['arrErrProd'][i],data['arrErrMin'][i],\n",
    "                                      data['arrErrMax'][i]))\n",
    "\n",
    "print('Bảng 1: Classification error của các fixed combining rule')\n",
    "data_1 = pd.DataFrame.from_dict(dict_data)\n",
    "data_1"
   ]
  },
  {
   "cell_type": "code",
   "execution_count": null,
   "metadata": {},
   "outputs": [],
   "source": [
    "final_results = []\n",
    "for i in range(len(path.CV_FILENAME)):\n",
    "    # Sum vs Product\n",
    "    win_compare_sum_prod = hypothesis.win_compare_error(data['arrErrSum'][i],data['arrErrProd'][i])"
   ]
  }
 ],
 "metadata": {
  "kernelspec": {
   "display_name": "Python 3",
   "language": "python",
   "name": "python3"
  },
  "language_info": {
   "codemirror_mode": {
    "name": "ipython",
    "version": 3
   },
   "file_extension": ".py",
   "mimetype": "text/x-python",
   "name": "python",
   "nbconvert_exporter": "python",
   "pygments_lexer": "ipython3",
   "version": "3.6.9"
  }
 },
 "nbformat": 4,
 "nbformat_minor": 2
}
