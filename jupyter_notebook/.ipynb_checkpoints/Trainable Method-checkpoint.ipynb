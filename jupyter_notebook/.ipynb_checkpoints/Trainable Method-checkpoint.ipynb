{
 "cells": [
  {
   "cell_type": "code",
   "execution_count": 1,
   "metadata": {},
   "outputs": [],
   "source": [
    "import csv\n",
    "import numpy as np\n",
    "import ast\n",
    "import json\n",
    "import matplotlib.pyplot as plt\n",
    "from sklearn import neighbors, datasets\n",
    "from sklearn.metrics import accuracy_score\n",
    "from sklearn.naive_bayes import GaussianNB\n",
    "from sklearn.linear_model import LogisticRegression\n",
    "from sklearn.metrics import classification_report\n",
    "from sklearn.model_selection import KFold"
   ]
  },
  {
   "cell_type": "code",
   "execution_count": 2,
   "metadata": {},
   "outputs": [],
   "source": [
    "import warnings\n",
    "warnings.filterwarnings('ignore')"
   ]
  },
  {
   "cell_type": "markdown",
   "metadata": {},
   "source": [
    "# Preapre Data"
   ]
  },
  {
   "cell_type": "code",
   "execution_count": 3,
   "metadata": {},
   "outputs": [],
   "source": [
    "data_train_austradian = [i.strip().split() for i in open(\"australian_train1.dat\").readlines()] \n",
    "data_test_austradian = [i.strip().split() for i in open(\"australian_test.dat\").readlines()]"
   ]
  },
  {
   "cell_type": "code",
   "execution_count": 4,
   "metadata": {},
   "outputs": [],
   "source": [
    "def process_feature(observe):\n",
    "    res = ast.literal_eval(observe[0])\n",
    "    feature_observe = list(res)[:len(observe) - 2]\n",
    "    label_observe = list(res)[-1]\n",
    "    return feature_observe,label_observe"
   ]
  },
  {
   "cell_type": "code",
   "execution_count": 5,
   "metadata": {},
   "outputs": [
    {
     "name": "stdout",
     "output_type": "stream",
     "text": [
      "(207, 14)\n",
      "(207,)\n"
     ]
    }
   ],
   "source": [
    "labels_train = []\n",
    "features_train = []\n",
    "for i, sample in enumerate(data_train_austradian):\n",
    "    feature_train_sample, label_train_sample = process_feature(sample)\n",
    "    features_train.append(feature_train_sample)\n",
    "    labels_train.append(label_train_sample)\n",
    "# Covert to array\n",
    "features_train = np.asarray(features_train)    #Shape matrix 386 * 14\n",
    "labels_train = np.asarray(labels_train)        #Shape matrix 386 * 1\n",
    "\n",
    "# Process Test Data\n",
    "features_test = []\n",
    "labels_test = []\n",
    "for i, sample in enumerate(data_test_austradian):\n",
    "    feature_test_sample, label_test_data = process_feature(sample)\n",
    "    features_test.append(feature_test_sample)\n",
    "    labels_test.append(label_test_data)\n",
    "#Covert to array\n",
    "features_test = np.asarray(features_test)      #Shape matrix 207 * 14\n",
    "labels_test = np.asarray(labels_test)          #Shape matrix 207 * 1\n",
    "print(features_test.shape)\n",
    "print(labels_test.shape)"
   ]
  },
  {
   "cell_type": "markdown",
   "metadata": {},
   "source": [
    "# KNN,Naive Bayes,LogisticRegression algorithms"
   ]
  },
  {
   "cell_type": "code",
   "execution_count": 6,
   "metadata": {},
   "outputs": [],
   "source": [
    "# KNN algorithms\n",
    "clf = neighbors.KNeighborsClassifier(n_neighbors=10,p = 2)\n",
    "clf.fit(features_train,labels_train)\n",
    "label_predict_knn_prob = clf.predict_proba(features_test)# probability in class\n",
    "label_predict_knn = clf.predict(features_test) "
   ]
  },
  {
   "cell_type": "code",
   "execution_count": 7,
   "metadata": {},
   "outputs": [],
   "source": [
    "#Naive Bayes algorithm\n",
    "gnb = GaussianNB()\n",
    "gnb.fit(features_train,labels_train)\n",
    "label_predict_gnb = gnb.predict(features_test)\n",
    "label_predict_gnb_prob = gnb.predict_proba(features_test)"
   ]
  },
  {
   "cell_type": "code",
   "execution_count": 8,
   "metadata": {},
   "outputs": [],
   "source": [
    "#LogisticRegression algorithms\n",
    "clf = LogisticRegression(random_state=0)\n",
    "clf.fit(features_train,labels_train)\n",
    "label_predict_lr = clf.predict(features_test)\n",
    "label_predict_lr_prob = clf.predict_proba(features_test)"
   ]
  },
  {
   "cell_type": "markdown",
   "metadata": {},
   "source": [
    "# Cross Validation K Folds"
   ]
  },
  {
   "cell_type": "code",
   "execution_count": 9,
   "metadata": {},
   "outputs": [],
   "source": [
    "def process_dataset(observe):\n",
    "    res = ast.literal_eval(observe[0])\n",
    "    return list(res)"
   ]
  },
  {
   "cell_type": "code",
   "execution_count": 10,
   "metadata": {},
   "outputs": [],
   "source": [
    "austradian = []\n",
    "for sample in data_train_austradian:\n",
    "    austradian.append(process_dataset(sample))\n",
    "austradian = np.asarray(austradian)"
   ]
  },
  {
   "cell_type": "code",
   "execution_count": 11,
   "metadata": {},
   "outputs": [],
   "source": [
    "models = [\n",
    "    ('LR', LogisticRegression(random_state=0)),\n",
    "    ('GB', GaussianNB()),\n",
    "    ('KNN', neighbors.KNeighborsClassifier(n_neighbors=10,p = 2))\n",
    "]"
   ]
  },
  {
   "cell_type": "code",
   "execution_count": 12,
   "metadata": {},
   "outputs": [],
   "source": [
    "def model(models, train_set, label_set, validation_set):\n",
    "    result_list = []\n",
    "    for name,model in models:\n",
    "        clf = model \n",
    "        clf.fit(train_set,label_set) \n",
    "        result = clf.predict_proba(validation_set)\n",
    "        result_tmp = result_list.append(result)\n",
    "    return result_list"
   ]
  },
  {
   "cell_type": "code",
   "execution_count": 13,
   "metadata": {
    "scrolled": true
   },
   "outputs": [
    {
     "name": "stdout",
     "output_type": "stream",
     "text": [
      "train: (347, 15), test: (39, 15)\n",
      "train: (347, 15), test: (39, 15)\n",
      "train: (347, 15), test: (39, 15)\n",
      "train: (347, 15), test: (39, 15)\n",
      "train: (347, 15), test: (39, 15)\n",
      "train: (347, 15), test: (39, 15)\n",
      "train: (348, 15), test: (38, 15)\n",
      "train: (348, 15), test: (38, 15)\n",
      "train: (348, 15), test: (38, 15)\n",
      "train: (348, 15), test: (38, 15)\n"
     ]
    }
   ],
   "source": [
    "from sklearn.model_selection import KFold\n",
    "kfold = KFold(10, True, 1)\n",
    "final_matrix = []\n",
    "for train_index,test_index in kfold.split(austradian):\n",
    "    print('train: %s, test: %s'%(austradian[train_index].shape,               #matrix data shape = 347 * 15 (contain 14 col features\n",
    "                                austradian[test_index].shape))          #and 1 label of feature in last column)\n",
    "    train_set = austradian[train_index][:,0:austradian[train_index].shape[1] - 1]     # Get features\n",
    "    label_set = austradian[train_index][:,-1]                                         # Get label in last column\n",
    "    validation_set = austradian[test_index][:,0:austradian[test_index].shape[1] - 1]\n",
    "    sample_proba_validation = model(models=models,train_set=train_set,\n",
    "                                    label_set=label_set,validation_set=validation_set)\n",
    "    result_fold = np.concatenate((sample_proba_validation[0],sample_proba_validation[1],sample_proba_validation[2]),axis = 1)\n",
    "    final_matrix.append(result_fold)"
   ]
  },
  {
   "cell_type": "code",
   "execution_count": 23,
   "metadata": {},
   "outputs": [
    {
     "data": {
      "text/plain": [
       "(386, 14)"
      ]
     },
     "execution_count": 23,
     "metadata": {},
     "output_type": "execute_result"
    }
   ],
   "source": [
    "features_train.shape"
   ]
  },
  {
   "cell_type": "code",
   "execution_count": 24,
   "metadata": {},
   "outputs": [],
   "source": [
    "# Create the training metadata"
   ]
  }
 ],
 "metadata": {
  "kernelspec": {
   "display_name": "Python 3",
   "language": "python",
   "name": "python3"
  },
  "language_info": {
   "codemirror_mode": {
    "name": "ipython",
    "version": 3
   },
   "file_extension": ".py",
   "mimetype": "text/x-python",
   "name": "python",
   "nbconvert_exporter": "python",
   "pygments_lexer": "ipython3",
   "version": "3.6.9"
  }
 },
 "nbformat": 4,
 "nbformat_minor": 2
}
