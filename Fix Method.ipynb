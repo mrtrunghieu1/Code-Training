{
 "cells": [
  {
   "cell_type": "code",
   "execution_count": 1,
   "metadata": {},
   "outputs": [],
   "source": [
    "import csv\n",
    "import numpy as np\n",
    "import ast\n",
    "import json\n",
    "import matplotlib.pyplot as plt\n",
    "from sklearn import neighbors, datasets\n",
    "from sklearn.metrics import accuracy_score\n",
    "from sklearn.naive_bayes import GaussianNB\n",
    "from sklearn.linear_model import LogisticRegression\n",
    "from sklearn.metrics import classification_report"
   ]
  },
  {
   "cell_type": "code",
   "execution_count": 2,
   "metadata": {},
   "outputs": [],
   "source": [
    "import warnings\n",
    "warnings.filterwarnings('ignore')"
   ]
  },
  {
   "cell_type": "markdown",
   "metadata": {},
   "source": [
    "# Preapre Data"
   ]
  },
  {
   "cell_type": "code",
   "execution_count": 3,
   "metadata": {},
   "outputs": [],
   "source": [
    "data_train_austradian = [i.strip().split() for i in open(\"australian_train1.dat\").readlines()] \n",
    "data_test_austradian = [i.strip().split() for i in open(\"australian_test.dat\").readlines()]"
   ]
  },
  {
   "cell_type": "code",
   "execution_count": 4,
   "metadata": {},
   "outputs": [],
   "source": [
    "def process_feature(observe):\n",
    "    res = ast.literal_eval(observe[0])\n",
    "    feature_observe = list(res)[:len(observe) - 2]\n",
    "    label_observe = list(res)[-1]\n",
    "    return feature_observe,label_observe"
   ]
  },
  {
   "cell_type": "code",
   "execution_count": 5,
   "metadata": {},
   "outputs": [
    {
     "name": "stdout",
     "output_type": "stream",
     "text": [
      "(207, 14)\n",
      "(207,)\n"
     ]
    }
   ],
   "source": [
    "labels_train = []\n",
    "features_train = []\n",
    "for i, sample in enumerate(data_train_austradian):\n",
    "    feature_train_sample, label_train_sample = process_feature(sample)\n",
    "    features_train.append(feature_train_sample)\n",
    "    labels_train.append(label_train_sample)\n",
    "# Covert to array\n",
    "features_train = np.asarray(features_train)    #Shape matrix 386 * 14\n",
    "labels_train = np.asarray(labels_train)        #Shape matrix 386 * 1\n",
    "\n",
    "# Process Test Data\n",
    "features_test = []\n",
    "labels_test = []\n",
    "for i, sample in enumerate(data_test_austradian):\n",
    "    feature_test_sample, label_test_data = process_feature(sample)\n",
    "    features_test.append(feature_test_sample)\n",
    "    labels_test.append(label_test_data)\n",
    "#Covert to array\n",
    "features_test = np.asarray(features_test)      #Shape matrix 207 * 14\n",
    "labels_test = np.asarray(labels_test)          #Shape matrix 207 * 1\n",
    "print(features_test.shape)\n",
    "print(labels_test.shape)"
   ]
  },
  {
   "cell_type": "markdown",
   "metadata": {},
   "source": [
    "# KNN,Naive Bayes,LogisticRegression algorithms"
   ]
  },
  {
   "cell_type": "code",
   "execution_count": 6,
   "metadata": {
    "scrolled": true
   },
   "outputs": [],
   "source": [
    "# KNN algorithms\n",
    "clf = neighbors.KNeighborsClassifier(n_neighbors=10,p = 2)\n",
    "clf.fit(features_train,labels_train)\n",
    "label_predict_knn_prob = clf.predict_proba(features_test)# probability in class\n",
    "label_predict_knn = clf.predict(features_test) "
   ]
  },
  {
   "cell_type": "code",
   "execution_count": 7,
   "metadata": {},
   "outputs": [
    {
     "name": "stdout",
     "output_type": "stream",
     "text": [
      "Accuracy Score for KNN Algorithm: 68.59903381642512\n"
     ]
    }
   ],
   "source": [
    "print('Accuracy Score for KNN Algorithm: {}'.format(100*accuracy_score(label_predict_knn, labels_test)))"
   ]
  },
  {
   "cell_type": "code",
   "execution_count": 8,
   "metadata": {},
   "outputs": [
    {
     "data": {
      "text/plain": [
       "array([[0.6, 0.4],\n",
       "       [0.5, 0.5],\n",
       "       [0.2, 0.8],\n",
       "       [0.6, 0.4],\n",
       "       [0.5, 0.5],\n",
       "       [0.3, 0.7],\n",
       "       [0.1, 0.9],\n",
       "       [0.4, 0.6],\n",
       "       [0.3, 0.7],\n",
       "       [0.4, 0.6],\n",
       "       [0.7, 0.3],\n",
       "       [0.3, 0.7],\n",
       "       [0.5, 0.5],\n",
       "       [0.5, 0.5],\n",
       "       [0.6, 0.4],\n",
       "       [0.6, 0.4],\n",
       "       [0.1, 0.9],\n",
       "       [1. , 0. ],\n",
       "       [0.2, 0.8],\n",
       "       [0.7, 0.3],\n",
       "       [0. , 1. ],\n",
       "       [0.6, 0.4],\n",
       "       [0.3, 0.7],\n",
       "       [0.5, 0.5],\n",
       "       [0.4, 0.6],\n",
       "       [0.3, 0.7],\n",
       "       [0.4, 0.6],\n",
       "       [1. , 0. ],\n",
       "       [0.5, 0.5],\n",
       "       [0.1, 0.9],\n",
       "       [0.3, 0.7],\n",
       "       [1. , 0. ],\n",
       "       [0.3, 0.7],\n",
       "       [0.2, 0.8],\n",
       "       [0.7, 0.3],\n",
       "       [0.5, 0.5],\n",
       "       [0.4, 0.6],\n",
       "       [0.7, 0.3],\n",
       "       [0.2, 0.8],\n",
       "       [0.3, 0.7],\n",
       "       [0.3, 0.7],\n",
       "       [0.2, 0.8],\n",
       "       [0.1, 0.9],\n",
       "       [0.4, 0.6],\n",
       "       [0.3, 0.7],\n",
       "       [0. , 1. ],\n",
       "       [0.4, 0.6],\n",
       "       [0.2, 0.8],\n",
       "       [0.2, 0.8],\n",
       "       [1. , 0. ],\n",
       "       [0.4, 0.6],\n",
       "       [0. , 1. ],\n",
       "       [0.3, 0.7],\n",
       "       [0.7, 0.3],\n",
       "       [0.3, 0.7],\n",
       "       [0.2, 0.8],\n",
       "       [0.1, 0.9],\n",
       "       [0.4, 0.6],\n",
       "       [0.7, 0.3],\n",
       "       [0.3, 0.7],\n",
       "       [0.6, 0.4],\n",
       "       [0.8, 0.2],\n",
       "       [0.7, 0.3],\n",
       "       [0.2, 0.8],\n",
       "       [0.4, 0.6],\n",
       "       [0.1, 0.9],\n",
       "       [0.3, 0.7],\n",
       "       [0.3, 0.7],\n",
       "       [0.4, 0.6],\n",
       "       [0.7, 0.3],\n",
       "       [0.3, 0.7],\n",
       "       [0.2, 0.8],\n",
       "       [0.6, 0.4],\n",
       "       [0.3, 0.7],\n",
       "       [0.1, 0.9],\n",
       "       [0.2, 0.8],\n",
       "       [0.5, 0.5],\n",
       "       [0.5, 0.5],\n",
       "       [0.9, 0.1],\n",
       "       [0.7, 0.3],\n",
       "       [0.7, 0.3],\n",
       "       [0.2, 0.8],\n",
       "       [0.3, 0.7],\n",
       "       [0.6, 0.4],\n",
       "       [0.4, 0.6],\n",
       "       [0.6, 0.4],\n",
       "       [0.6, 0.4],\n",
       "       [0.1, 0.9],\n",
       "       [0.3, 0.7],\n",
       "       [0.5, 0.5],\n",
       "       [0.4, 0.6],\n",
       "       [0.2, 0.8],\n",
       "       [0. , 1. ],\n",
       "       [0.7, 0.3],\n",
       "       [0.6, 0.4],\n",
       "       [0.1, 0.9],\n",
       "       [0.6, 0.4],\n",
       "       [0.5, 0.5],\n",
       "       [0.7, 0.3],\n",
       "       [0.4, 0.6],\n",
       "       [0.5, 0.5],\n",
       "       [0.3, 0.7],\n",
       "       [0.8, 0.2],\n",
       "       [0. , 1. ],\n",
       "       [0.4, 0.6],\n",
       "       [0.3, 0.7],\n",
       "       [0.9, 0.1],\n",
       "       [0.6, 0.4],\n",
       "       [0.3, 0.7],\n",
       "       [1. , 0. ],\n",
       "       [0.2, 0.8],\n",
       "       [0. , 1. ],\n",
       "       [0.2, 0.8],\n",
       "       [0.3, 0.7],\n",
       "       [0.2, 0.8],\n",
       "       [0.1, 0.9],\n",
       "       [0.1, 0.9],\n",
       "       [0.3, 0.7],\n",
       "       [0.2, 0.8],\n",
       "       [0.8, 0.2],\n",
       "       [0.5, 0.5],\n",
       "       [0.7, 0.3],\n",
       "       [0.4, 0.6],\n",
       "       [0.3, 0.7],\n",
       "       [0.4, 0.6],\n",
       "       [0.6, 0.4],\n",
       "       [0.2, 0.8],\n",
       "       [0.6, 0.4],\n",
       "       [0.4, 0.6],\n",
       "       [0.5, 0.5],\n",
       "       [0.5, 0.5],\n",
       "       [0.4, 0.6],\n",
       "       [0.6, 0.4],\n",
       "       [0.3, 0.7],\n",
       "       [0.2, 0.8],\n",
       "       [0.7, 0.3],\n",
       "       [0.7, 0.3],\n",
       "       [0.2, 0.8],\n",
       "       [0.8, 0.2],\n",
       "       [0.7, 0.3],\n",
       "       [0.2, 0.8],\n",
       "       [0.3, 0.7],\n",
       "       [0.3, 0.7],\n",
       "       [0.5, 0.5],\n",
       "       [0.9, 0.1],\n",
       "       [0.4, 0.6],\n",
       "       [0.2, 0.8],\n",
       "       [0.2, 0.8],\n",
       "       [0.4, 0.6],\n",
       "       [0.2, 0.8],\n",
       "       [0.9, 0.1],\n",
       "       [0.4, 0.6],\n",
       "       [0. , 1. ],\n",
       "       [0.3, 0.7],\n",
       "       [0.3, 0.7],\n",
       "       [0.5, 0.5],\n",
       "       [0.7, 0.3],\n",
       "       [0. , 1. ],\n",
       "       [0.3, 0.7],\n",
       "       [0.2, 0.8],\n",
       "       [0.3, 0.7],\n",
       "       [0.2, 0.8],\n",
       "       [0.6, 0.4],\n",
       "       [0.3, 0.7],\n",
       "       [0.3, 0.7],\n",
       "       [0.6, 0.4],\n",
       "       [0.2, 0.8],\n",
       "       [0.5, 0.5],\n",
       "       [0.4, 0.6],\n",
       "       [0.5, 0.5],\n",
       "       [0.4, 0.6],\n",
       "       [0.6, 0.4],\n",
       "       [0.2, 0.8],\n",
       "       [0.6, 0.4],\n",
       "       [0.3, 0.7],\n",
       "       [0.8, 0.2],\n",
       "       [0.7, 0.3],\n",
       "       [0.7, 0.3],\n",
       "       [0.2, 0.8],\n",
       "       [0.3, 0.7],\n",
       "       [0.5, 0.5],\n",
       "       [0.4, 0.6],\n",
       "       [0.1, 0.9],\n",
       "       [0.2, 0.8],\n",
       "       [0.2, 0.8],\n",
       "       [0. , 1. ],\n",
       "       [0.1, 0.9],\n",
       "       [0.6, 0.4],\n",
       "       [0.2, 0.8],\n",
       "       [0.3, 0.7],\n",
       "       [0.6, 0.4],\n",
       "       [0.2, 0.8],\n",
       "       [0.2, 0.8],\n",
       "       [0.6, 0.4],\n",
       "       [0.6, 0.4],\n",
       "       [0.3, 0.7],\n",
       "       [0.2, 0.8],\n",
       "       [0.6, 0.4],\n",
       "       [0.7, 0.3],\n",
       "       [0.2, 0.8],\n",
       "       [0.4, 0.6],\n",
       "       [0.4, 0.6],\n",
       "       [0.6, 0.4],\n",
       "       [0.3, 0.7],\n",
       "       [0.3, 0.7],\n",
       "       [0.6, 0.4],\n",
       "       [1. , 0. ]])"
      ]
     },
     "execution_count": 8,
     "metadata": {},
     "output_type": "execute_result"
    }
   ],
   "source": [
    "label_predict_knn_prob"
   ]
  },
  {
   "cell_type": "code",
   "execution_count": 9,
   "metadata": {},
   "outputs": [
    {
     "data": {
      "text/plain": [
       "array([0.6, 0.5, 0.2, 0.6, 0.5, 0.3, 0.1, 0.4, 0.3, 0.4, 0.7, 0.3, 0.5,\n",
       "       0.5, 0.6, 0.6, 0.1, 1. , 0.2, 0.7, 0. , 0.6, 0.3, 0.5, 0.4, 0.3,\n",
       "       0.4, 1. , 0.5, 0.1, 0.3, 1. , 0.3, 0.2, 0.7, 0.5, 0.4, 0.7, 0.2,\n",
       "       0.3, 0.3, 0.2, 0.1, 0.4, 0.3, 0. , 0.4, 0.2, 0.2, 1. , 0.4, 0. ,\n",
       "       0.3, 0.7, 0.3, 0.2, 0.1, 0.4, 0.7, 0.3, 0.6, 0.8, 0.7, 0.2, 0.4,\n",
       "       0.1, 0.3, 0.3, 0.4, 0.7, 0.3, 0.2, 0.6, 0.3, 0.1, 0.2, 0.5, 0.5,\n",
       "       0.9, 0.7, 0.7, 0.2, 0.3, 0.6, 0.4, 0.6, 0.6, 0.1, 0.3, 0.5, 0.4,\n",
       "       0.2, 0. , 0.7, 0.6, 0.1, 0.6, 0.5, 0.7, 0.4, 0.5, 0.3, 0.8, 0. ,\n",
       "       0.4, 0.3, 0.9, 0.6, 0.3, 1. , 0.2, 0. , 0.2, 0.3, 0.2, 0.1, 0.1,\n",
       "       0.3, 0.2, 0.8, 0.5, 0.7, 0.4, 0.3, 0.4, 0.6, 0.2, 0.6, 0.4, 0.5,\n",
       "       0.5, 0.4, 0.6, 0.3, 0.2, 0.7, 0.7, 0.2, 0.8, 0.7, 0.2, 0.3, 0.3,\n",
       "       0.5, 0.9, 0.4, 0.2, 0.2, 0.4, 0.2, 0.9, 0.4, 0. , 0.3, 0.3, 0.5,\n",
       "       0.7, 0. , 0.3, 0.2, 0.3, 0.2, 0.6, 0.3, 0.3, 0.6, 0.2, 0.5, 0.4,\n",
       "       0.5, 0.4, 0.6, 0.2, 0.6, 0.3, 0.8, 0.7, 0.7, 0.2, 0.3, 0.5, 0.4,\n",
       "       0.1, 0.2, 0.2, 0. , 0.1, 0.6, 0.2, 0.3, 0.6, 0.2, 0.2, 0.6, 0.6,\n",
       "       0.3, 0.2, 0.6, 0.7, 0.2, 0.4, 0.4, 0.6, 0.3, 0.3, 0.6, 1. ])"
      ]
     },
     "execution_count": 9,
     "metadata": {},
     "output_type": "execute_result"
    }
   ],
   "source": [
    "label_predict_knn_prob[:,0]"
   ]
  },
  {
   "cell_type": "code",
   "execution_count": 10,
   "metadata": {},
   "outputs": [],
   "source": [
    "#Naive Bayes algorithm\n",
    "gnb = GaussianNB()\n",
    "gnb.fit(features_train,labels_train)\n",
    "label_predict_gnb = gnb.predict(features_test)\n",
    "label_predict_gnb_prob = gnb.predict_proba(features_test)"
   ]
  },
  {
   "cell_type": "code",
   "execution_count": 11,
   "metadata": {},
   "outputs": [
    {
     "name": "stdout",
     "output_type": "stream",
     "text": [
      "Accuracy Score for Naive Bayes Algorithm: 80.67632850241546\n"
     ]
    }
   ],
   "source": [
    "print('Accuracy Score for Naive Bayes Algorithm: {}'.format(100*accuracy_score(label_predict_gnb, labels_test)))"
   ]
  },
  {
   "cell_type": "code",
   "execution_count": 12,
   "metadata": {},
   "outputs": [],
   "source": [
    "#LogisticRegression algorithms\n",
    "clf = LogisticRegression(random_state=0)\n",
    "clf.fit(features_train,labels_train)\n",
    "label_predict_lr = clf.predict(features_test)\n",
    "label_predict_lr_prob = clf.predict_proba(features_test)"
   ]
  },
  {
   "cell_type": "code",
   "execution_count": 13,
   "metadata": {},
   "outputs": [
    {
     "name": "stdout",
     "output_type": "stream",
     "text": [
      "Accuracy Score for LogisticRegression algorithms: 78.74396135265701\n"
     ]
    }
   ],
   "source": [
    "print('Accuracy Score for LogisticRegression algorithms: {}'.format(100*accuracy_score(label_predict_lr, labels_test)))"
   ]
  },
  {
   "cell_type": "markdown",
   "metadata": {},
   "source": [
    "# Combining Algorithms"
   ]
  },
  {
   "cell_type": "markdown",
   "metadata": {},
   "source": [
    "Combining Algorithms use Sum Rules"
   ]
  },
  {
   "cell_type": "code",
   "execution_count": 14,
   "metadata": {},
   "outputs": [],
   "source": [
    "combining_matrix = label_predict_knn_prob + label_predict_gnb_prob + label_predict_lr_prob"
   ]
  },
  {
   "cell_type": "code",
   "execution_count": 15,
   "metadata": {},
   "outputs": [],
   "source": [
    "combining_matrix = combining_matrix * 1/3   #Mean elements in matrix"
   ]
  },
  {
   "cell_type": "code",
   "execution_count": 16,
   "metadata": {},
   "outputs": [],
   "source": [
    "labels_combining_algorithm = []\n",
    "for row in combining_matrix:\n",
    "    result = 1 if row[0] > row [1] else 2\n",
    "    labels_combining_algorithm.append(result)\n",
    "labels_combining_algorithm = np.asarray(labels_combining_algorithm)"
   ]
  },
  {
   "cell_type": "code",
   "execution_count": 17,
   "metadata": {},
   "outputs": [
    {
     "data": {
      "text/plain": [
       "array([1, 2, 2, 1, 2, 2, 2, 2, 2, 2, 2, 2, 1, 1, 2, 1, 2, 1, 2, 1, 2, 2,\n",
       "       2, 2, 2, 1, 2, 1, 2, 2, 2, 1, 2, 2, 2, 1, 2, 2, 2, 2, 2, 2, 2, 2,\n",
       "       2, 2, 2, 2, 2, 1, 2, 2, 2, 1, 2, 2, 2, 1, 2, 2, 2, 1, 1, 2, 2, 2,\n",
       "       2, 1, 2, 2, 2, 2, 2, 2, 2, 2, 2, 2, 1, 1, 1, 2, 2, 2, 2, 1, 2, 2,\n",
       "       2, 1, 2, 2, 2, 2, 1, 1, 2, 2, 2, 2, 1, 2, 1, 2, 1, 2, 1, 1, 2, 1,\n",
       "       2, 2, 2, 2, 2, 2, 2, 2, 2, 1, 2, 1, 2, 2, 2, 2, 2, 2, 2, 2, 1, 2,\n",
       "       2, 2, 2, 2, 1, 1, 1, 2, 2, 2, 2, 2, 1, 1, 2, 2, 2, 2, 1, 2, 2, 2,\n",
       "       2, 2, 1, 2, 1, 1, 2, 2, 1, 2, 2, 2, 2, 1, 2, 1, 2, 2, 1, 2, 1, 1,\n",
       "       1, 1, 2, 2, 2, 2, 2, 2, 2, 2, 2, 1, 2, 1, 2, 2, 1, 1, 1, 2, 2, 1,\n",
       "       1, 1, 2, 2, 2, 2, 1, 2, 1])"
      ]
     },
     "execution_count": 17,
     "metadata": {},
     "output_type": "execute_result"
    }
   ],
   "source": [
    "labels_combining_algorithm"
   ]
  },
  {
   "cell_type": "markdown",
   "metadata": {},
   "source": [
    "# Evaluate"
   ]
  },
  {
   "cell_type": "code",
   "execution_count": 18,
   "metadata": {},
   "outputs": [
    {
     "name": "stdout",
     "output_type": "stream",
     "text": [
      "Accuracy Score for Combining Algorithm: 81.15942028985508\n"
     ]
    }
   ],
   "source": [
    "print('Accuracy Score for Combining Algorithm: {}'.format(100*accuracy_score(labels_combining_algorithm, labels_test)))"
   ]
  },
  {
   "cell_type": "code",
   "execution_count": 19,
   "metadata": {},
   "outputs": [
    {
     "name": "stdout",
     "output_type": "stream",
     "text": [
      "              precision    recall  f1-score   support\n",
      "\n",
      "     class 1       0.85      0.63      0.72        81\n",
      "     class 2       0.80      0.93      0.86       126\n",
      "\n",
      "    accuracy                           0.81       207\n",
      "   macro avg       0.82      0.78      0.79       207\n",
      "weighted avg       0.82      0.81      0.80       207\n",
      "\n"
     ]
    }
   ],
   "source": [
    "target_names = ['class 1','class 2']\n",
    "print(classification_report(labels_test, labels_combining_algorithm, target_names=target_names))"
   ]
  },
  {
   "cell_type": "code",
   "execution_count": null,
   "metadata": {},
   "outputs": [],
   "source": []
  }
 ],
 "metadata": {
  "kernelspec": {
   "display_name": "Python 3",
   "language": "python",
   "name": "python3"
  },
  "language_info": {
   "codemirror_mode": {
    "name": "ipython",
    "version": 3
   },
   "file_extension": ".py",
   "mimetype": "text/x-python",
   "name": "python",
   "nbconvert_exporter": "python",
   "pygments_lexer": "ipython3",
   "version": "3.6.9"
  }
 },
 "nbformat": 4,
 "nbformat_minor": 2
}
